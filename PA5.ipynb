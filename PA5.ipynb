{
 "cells": [
  {
   "cell_type": "markdown",
   "id": "4ef97fcb",
   "metadata": {},
   "source": [
    "# PA5 Connor Goodman, CS-150-01 Fall 2021"
   ]
  },
  {
   "cell_type": "code",
   "execution_count": 35,
   "id": "2a5393fe",
   "metadata": {},
   "outputs": [
    {
     "name": "stdout",
     "output_type": "stream",
     "text": [
      "Enter your word you want translated: church\n",
      "iglesia\n",
      "Enter your word you want translated: bye\n",
      "adios\n",
      "Enter your word you want translated: hi\n",
      "hola\n",
      "Enter your word you want translated: sister\n",
      "hermana\n",
      "Enter your word you want translated: 0\n",
      "None\n"
     ]
    }
   ],
   "source": [
    "translationdict = {'hi':'hola','bye':'adios','name':'nombre','father':'padre','mother':'madre','son':'hijo','daughter':'hija',\n",
    "                   'family':'familia','friend':'amigo','cat':'gato','dog':'perro','computer':'computadora','grass':'cesped',\n",
    "                   'videogames':'juegoes de video','church':'iglesia','car':'choche','food':'comida','joy':'alegria',\n",
    "                  'sister':'hermana','brother':'hermano',}\n",
    "while True:\n",
    "    userinput = str(input(\"Enter your word you want translated: \"))\n",
    "    print(translationdict.get(userinput))\n",
    "    if userinput == \"0\":\n",
    "        break\n",
    "    else:\n",
    "        continue"
   ]
  },
  {
   "cell_type": "code",
   "execution_count": 37,
   "id": "5fbb9235",
   "metadata": {},
   "outputs": [
    {
     "name": "stdout",
     "output_type": "stream",
     "text": [
      "{'a', 'e', 'b'}\n"
     ]
    }
   ],
   "source": [
    "#Symetric Difference (^)\n",
    "#symmetric_difference() method returns the symmetric difference of two sets(the unique elements).\n",
    "A = {'a', 'b', 'c', 'd'}\n",
    "B = {'c', 'd', 'e' }\n",
    "print(A.symmetric_difference(B))"
   ]
  },
  {
   "cell_type": "code",
   "execution_count": 43,
   "id": "d2216883",
   "metadata": {},
   "outputs": [
    {
     "name": "stdout",
     "output_type": "stream",
     "text": [
      "Are Aa and Bb disjoint? True\n"
     ]
    }
   ],
   "source": [
    "#.isdisjoint()\n",
    "#The isdisjoint() method returns True if two sets are disjoint sets. If not, it returns False.\n",
    "Aa = {1, 2, 3, 4}\n",
    "Bb = {5, 6, 7}\n",
    "print('Are Aa and Bb disjoint?', Aa.isdisjoint(Bb))"
   ]
  },
  {
   "cell_type": "code",
   "execution_count": 45,
   "id": "19a730df",
   "metadata": {},
   "outputs": [
    {
     "name": "stdout",
     "output_type": "stream",
     "text": [
      "{'c'}\n"
     ]
    }
   ],
   "source": [
    "#intersection_update(&=)\n",
    "#this removes the items that is not present in both sets\n",
    "x = {\"a\", \"b\", \"c\"}\n",
    "y = {\"c\", \"d\", \"e\"}\n",
    "z = {\"f\", \"g\", \"c\"}\n",
    "\n",
    "x.intersection_update(y, z)\n",
    "\n",
    "print(x)"
   ]
  },
  {
   "cell_type": "code",
   "execution_count": 49,
   "id": "e658813f",
   "metadata": {},
   "outputs": [
    {
     "name": "stdout",
     "output_type": "stream",
     "text": [
      "Updated List:  [2, 3, 5, 7, 11]\n"
     ]
    }
   ],
   "source": [
    "#remove()\n",
    "#The remove() method removes the first matching element (which is passed as an argument) from the list.\n",
    "prime_numbers = [2, 3, 5, 7, 9, 11]\n",
    "prime_numbers.remove(9)\n",
    "print('Updated List: ', prime_numbers)"
   ]
  },
  {
   "cell_type": "code",
   "execution_count": 48,
   "id": "d8ec9806",
   "metadata": {},
   "outputs": [
    {
     "name": "stdout",
     "output_type": "stream",
     "text": [
      "{'cherry', 'apple'}\n"
     ]
    }
   ],
   "source": [
    "#discard\n",
    "#The discard() method removes the specified item from the set\n",
    "fruits = {\"apple\", \"banana\", \"cherry\"}\n",
    "\n",
    "fruits.discard(\"banana\")\n",
    "\n",
    "print(fruits)"
   ]
  },
  {
   "cell_type": "code",
   "execution_count": 50,
   "id": "a60a5bd3",
   "metadata": {},
   "outputs": [
    {
     "name": "stdout",
     "output_type": "stream",
     "text": [
      "['apple', 'cherry']\n"
     ]
    }
   ],
   "source": [
    "#pop()\n",
    "#The pop() method removes the element at the specified position\n",
    "fruit = ['apple', 'banana', 'cherry']\n",
    "\n",
    "fruit.pop(1)\n",
    "print(fruit)"
   ]
  },
  {
   "cell_type": "code",
   "execution_count": null,
   "id": "45ed1442",
   "metadata": {},
   "outputs": [],
   "source": []
  }
 ],
 "metadata": {
  "kernelspec": {
   "display_name": "Python 3",
   "language": "python",
   "name": "python3"
  },
  "language_info": {
   "codemirror_mode": {
    "name": "ipython",
    "version": 3
   },
   "file_extension": ".py",
   "mimetype": "text/x-python",
   "name": "python",
   "nbconvert_exporter": "python",
   "pygments_lexer": "ipython3",
   "version": "3.8.8"
  }
 },
 "nbformat": 4,
 "nbformat_minor": 5
}
